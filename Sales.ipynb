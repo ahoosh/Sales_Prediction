{
 "cells": [
  {
   "cell_type": "code",
   "execution_count": null,
   "metadata": {
    "collapsed": true
   },
   "outputs": [],
   "source": []
  },
  {
   "cell_type": "code",
   "execution_count": 34,
   "metadata": {
    "collapsed": true
   },
   "outputs": [],
   "source": [
    "# Importing libraries\n",
    "%matplotlib inline\n",
    "import matplotlib\n",
    "import matplotlib.pyplot as plt\n",
    "import pandas as pd # Loading CSV files and data manipulation\n",
    "import numpy as np # Just for the heck of it\n",
    "import scipy.stats as stats # fitting gamma distribution"
   ]
  },
  {
   "cell_type": "code",
   "execution_count": 362,
   "metadata": {
    "collapsed": false
   },
   "outputs": [],
   "source": [
    "# Inputs\n",
    "dataFolder = \"~abbas/Documents/Projects_Repositories/Sales_Prediction/data/\"\n",
    "customersFile = \"customers.csv\"\n",
    "finalSalesFile = \"final_sales.csv\"\n",
    "productsFile = \"products.csv\"\n",
    "transactionsFile = \"transactions.csv\"\n",
    "cleanup_nums = {'A ': 23,\n",
    "                'B ': 27,\n",
    "                'C ': 32,\n",
    "                'D ': 37,\n",
    "                'E ': 42,\n",
    "                'F ': 47,\n",
    "                'G ': 52,\n",
    "                'H ': 57,\n",
    "                'I ': 62,\n",
    "                'J ': 67,\n",
    "                'K ': 67}"
   ]
  },
  {
   "cell_type": "code",
   "execution_count": null,
   "metadata": {
    "collapsed": false
   },
   "outputs": [],
   "source": []
  },
  {
   "cell_type": "code",
   "execution_count": null,
   "metadata": {
    "collapsed": false
   },
   "outputs": [],
   "source": []
  },
  {
   "cell_type": "code",
   "execution_count": null,
   "metadata": {
    "collapsed": false
   },
   "outputs": [],
   "source": []
  },
  {
   "cell_type": "code",
   "execution_count": null,
   "metadata": {
    "collapsed": false
   },
   "outputs": [],
   "source": []
  },
  {
   "cell_type": "code",
   "execution_count": null,
   "metadata": {
    "collapsed": false
   },
   "outputs": [],
   "source": []
  },
  {
   "cell_type": "code",
   "execution_count": 402,
   "metadata": {
    "collapsed": false
   },
   "outputs": [],
   "source": [
    "# Reading CSV files\n",
    "customers = pd.read_csv(dataFolder + customersFile)\n",
    "finalSales = pd.read_csv(dataFolder + finalSalesFile)\n",
    "products = pd.read_csv(dataFolder + productsFile)\n",
    "transactions = pd.read_csv(dataFolder + transactionsFile)"
   ]
  },
  {
   "cell_type": "code",
   "execution_count": 403,
   "metadata": {
    "collapsed": false
   },
   "outputs": [
    {
     "name": "stdout",
     "output_type": "stream",
     "text": [
      "customer_id               int64\n",
      "age_group                 int64\n",
      "residence_area_code    category\n",
      "weight_lb               float64\n",
      "height_inchess          float64\n",
      "BMI                     float64\n",
      "dtype: object\n"
     ]
    }
   ],
   "source": [
    "customers['age_group'].replace(cleanup_nums, inplace=True)\n",
    "customers['age_group'] = customers['age_group'].astype(str).astype(int)\n",
    "customers['residence_area_code'] = customers['residence_area_code'].astype('category')\n",
    "customers['BMI'] = customers.weight_lb*0.45 / (customers.height_inchess*0.025)**2\n",
    "print(customers.dtypes)"
   ]
  },
  {
   "cell_type": "code",
   "execution_count": 393,
   "metadata": {
    "collapsed": true
   },
   "outputs": [],
   "source": [
    "# Useful functions\n",
    "def change_aggregated_columns(df):\n",
    "    '''\n",
    "    *** This function changes the column names when we have aggregated pandas dataframe and we want to get rid of \n",
    "        two names. For example, we might have df['Temperature']['mean'] and df['Temperature']['std']. This function \n",
    "        changes them into df['Temperature_mean'] and df['Temperature_std']\n",
    "    NOTE: In this project, we are not using this function. Please keep it as it wil be useful in the future...\n",
    "    '''\n",
    "    myColumns = df.columns.tolist()\n",
    "    dfModified = pd.DataFrame({})\n",
    "    n = len(myColumns)\n",
    "    for i in range(n):\n",
    "        if len(myColumns[i][1]) > 0:\n",
    "            dfModified[myColumns[i][0] + \"_\" + myColumns[i][1]] = df[myColumns[i][0]][myColumns[i][1]]\n",
    "        else:\n",
    "            dfModified[myColumns[i][0]] = df[myColumns[i][0]]\n",
    "    return dfModified\n",
    "\n",
    "def date_range(arr):     \n",
    "    return (arr.iloc[-1] - arr.iloc[0])\n",
    "\n",
    "def last_date(arr):     \n",
    "    return arr.iloc[-1]\n",
    "\n",
    "def num_date(arr):     \n",
    "    return len(arr)"
   ]
  },
  {
   "cell_type": "code",
   "execution_count": 394,
   "metadata": {
    "collapsed": false
   },
   "outputs": [
    {
     "name": "stdout",
     "output_type": "stream",
     "text": [
      "finalSales costumer_id are all unique: True\n"
     ]
    }
   ],
   "source": [
    "# Data Quality Check:\n",
    "print(\"finalSales costumer_id are all unique:\", len(finalSales.customer_id.unique()) == finalSales.shape[0])"
   ]
  },
  {
   "cell_type": "code",
   "execution_count": 401,
   "metadata": {
    "collapsed": false
   },
   "outputs": [
    {
     "name": "stdout",
     "output_type": "stream",
     "text": [
      " --- Area code ddistribution: \n",
      "E     10803\n",
      "F      8542\n",
      "G      3701\n",
      "C      3689\n",
      "D      2169\n",
      "H      1453\n",
      "A       972\n",
      "B       937\n",
      "Name: residence_area_code, dtype: int64\n",
      " ---- Age distribution: \n",
      "37    6588\n",
      "32    5916\n",
      "42    5084\n",
      "47    3723\n",
      "27    3196\n",
      "52    2184\n",
      "67    1989\n",
      "23    1630\n",
      "57    1076\n",
      "62     880\n",
      "Name: age_group, dtype: int64\n"
     ]
    }
   ],
   "source": [
    "print(\" --- Area code ddistribution: \")\n",
    "print(customers[\"residence_area_code\"].value_counts())\n",
    "print(\" ---- Age distribution: \")\n",
    "print(customers[\"age_group\"].value_counts())"
   ]
  },
  {
   "cell_type": "code",
   "execution_count": 396,
   "metadata": {
    "collapsed": false
   },
   "outputs": [
    {
     "data": {
      "text/html": [
       "<div>\n",
       "<table border=\"1\" class=\"dataframe\">\n",
       "  <thead>\n",
       "    <tr style=\"text-align: right;\">\n",
       "      <th></th>\n",
       "      <th>customer_id</th>\n",
       "      <th>sales_price</th>\n",
       "      <th>transaction_date</th>\n",
       "    </tr>\n",
       "  </thead>\n",
       "  <tbody>\n",
       "    <tr>\n",
       "      <th>14973</th>\n",
       "      <td>1622362</td>\n",
       "      <td>444000</td>\n",
       "      <td>2001-02-17</td>\n",
       "    </tr>\n",
       "    <tr>\n",
       "      <th>28607</th>\n",
       "      <td>2103679</td>\n",
       "      <td>43917</td>\n",
       "      <td>2000-12-07</td>\n",
       "    </tr>\n",
       "    <tr>\n",
       "      <th>12484</th>\n",
       "      <td>1504491</td>\n",
       "      <td>29344</td>\n",
       "      <td>2001-01-21</td>\n",
       "    </tr>\n",
       "    <tr>\n",
       "      <th>29760</th>\n",
       "      <td>2133461</td>\n",
       "      <td>24795</td>\n",
       "      <td>2001-01-16</td>\n",
       "    </tr>\n",
       "    <tr>\n",
       "      <th>29663</th>\n",
       "      <td>2131214</td>\n",
       "      <td>24795</td>\n",
       "      <td>2001-01-16</td>\n",
       "    </tr>\n",
       "  </tbody>\n",
       "</table>\n",
       "</div>"
      ],
      "text/plain": [
       "       customer_id  sales_price transaction_date\n",
       "14973      1622362       444000       2001-02-17\n",
       "28607      2103679        43917       2000-12-07\n",
       "12484      1504491        29344       2001-01-21\n",
       "29760      2133461        24795       2001-01-16\n",
       "29663      2131214        24795       2001-01-16"
      ]
     },
     "execution_count": 396,
     "metadata": {},
     "output_type": "execute_result"
    }
   ],
   "source": [
    "finalSales.sort_values(by = 'sales_price', ascending = False).head()"
   ]
  },
  {
   "cell_type": "code",
   "execution_count": 55,
   "metadata": {
    "collapsed": false
   },
   "outputs": [
    {
     "name": "stdout",
     "output_type": "stream",
     "text": [
      "alpha:  320.746636447  loc:  -6.64600294058  beta:  0.0292536376561\n"
     ]
    },
    {
     "data": {
      "image/png": "[encoded data removed]",
      "text/plain": [
       "<matplotlib.figure.Figure at 0x1184d3dd8>"
      ]
     },
     "metadata": {},
     "output_type": "display_data"
    }
   ],
   "source": [
    "n, bins, patches = plt.hist(np.log10(finalSales.sales_price), bins=50, normed= True, facecolor='green', \n",
    "                            alpha=0.75, label = \"Final sales data\")\n",
    "\n",
    "fit_alpha, fit_loc, fit_beta=stats.gamma.fit(np.log10(finalSales.sales_price))\n",
    "x = np.linspace(stats.gamma.ppf(0.001, fit_alpha, loc = fit_loc, scale = fit_beta), \n",
    "                stats.gamma.ppf(0.999, fit_alpha, loc = fit_loc, scale = fit_beta), 10000)\n",
    "plt.plot(x, stats.gamma.pdf(x, fit_alpha, loc = fit_loc, scale = fit_beta),'r-', lw=5, alpha=0.6, \n",
    "         label='fitted gamma pdf')\n",
    "print(\"alpha: \", fit_alpha, \" loc: \", fit_loc, \" beta: \", fit_beta)\n",
    "# add a 'best fit' line\n",
    "#y = mlab.normpdf( bins, mu, sigma)\n",
    "#l = plt.plot(bins, y, 'r--', linewidth=1)\n",
    "plt.xlabel('$\\log(Sales)$')\n",
    "plt.ylabel('Probability')\n",
    "plt.title('Log of Final sales following a gamma distribution')\n",
    "plt.axis([0.8, 5, 0, 1])\n",
    "plt.legend(loc='best', frameon=False)\n",
    "plt.show()"
   ]
  },
  {
   "cell_type": "code",
   "execution_count": 404,
   "metadata": {
    "collapsed": false
   },
   "outputs": [],
   "source": [
    "transactions['product_price'] = transactions.sales_price / transactions.quantity\n",
    "transactions = transactions.sort_values(by = ['customer_id', 'transaction_date'], ascending = True)\n",
    "transactions = transactions.merge(products, on= \"product_id\", how='left')\n",
    "transactions['percentage_locally_sourced'] = transactions.locally_sourced * transactions.sales_price\n",
    "transactionsGrouped = transactions.groupby(['customer_id',\n",
    "                               'transaction_date']).agg({'product_class':pd.Series.nunique, \n",
    "                                                         'weight_class':pd.Series.nunique,\n",
    "                                                         'color_code':pd.Series.nunique,\n",
    "                                                         'sales_price':sum,\n",
    "                                                         'quantity':sum,\n",
    "                                                         'percentage_locally_sourced':sum,\n",
    "                                                         'product_price':'mean'})[['product_class',\n",
    "                                                                                   'weight_class',\n",
    "                                                                                   'color_code',\n",
    "                                                                                   'sales_price',\n",
    "                                                                                   'quantity',\n",
    "                                                                                   'percentage_locally_sourced',\n",
    "                                                                                   'product_price']]\n",
    "transactionsGrouped['percentage_locally_sourced'] = transactionsGrouped.percentage_locally_sourced / transactionsGrouped.sales_price\n",
    "transactionsGrouped = transactionsGrouped.reset_index()\n",
    "transactionsGrouped = transactionsGrouped.groupby(\"customer_id\", as_index=False).apply(lambda x: x.iloc[:-1])\n",
    "transactionsGrouped = transactionsGrouped.reset_index()\n",
    "transactionsGrouped['transaction_date'] = pd.to_datetime(transactionsGrouped['transaction_date'], format='%Y-%m-%d')\n",
    "transactionsGrouped2 = transactionsGrouped.groupby('customer_id').agg({'transaction_date': [date_range, last_date],\n",
    "                                                                       'product_class': 'mean',\n",
    "                                                                       'weight_class': 'mean',\n",
    "                                                                       'color_code': 'mean',\n",
    "                                                                       'sales_price': ['mean', max, num_date],\n",
    "                                                                       'quantity': 'mean',\n",
    "                                                                       'percentage_locally_sourced': 'mean',\n",
    "                                                                       'product_price': 'mean'})\n",
    "transactionsGrouped2 = transactionsGrouped2.reset_index()\n",
    "transactionsGrouped2 = change_aggregated_columns(transactionsGrouped2)\n",
    "transactionsGrouped2['transaction_date_date_range'] = transactionsGrouped2['transaction_date_date_range'].dt.days\n",
    "transactionsGrouped2 = transactionsGrouped2.merge(customers, on= \"customer_id\", how='left')"
   ]
  },
  {
   "cell_type": "code",
   "execution_count": 408,
   "metadata": {
    "collapsed": false
   },
   "outputs": [
    {
     "data": {
      "text/html": [
       "<div>\n",
       "<table border=\"1\" class=\"dataframe\">\n",
       "  <thead>\n",
       "    <tr style=\"text-align: right;\">\n",
       "      <th></th>\n",
       "      <th>customer_id</th>\n",
       "      <th>transaction_date_date_range</th>\n",
       "      <th>transaction_date_last_date</th>\n",
       "      <th>sales_price_mean</th>\n",
       "      <th>sales_price_max</th>\n",
       "      <th>sales_price_num_date</th>\n",
       "      <th>percentage_locally_sourced_mean</th>\n",
       "      <th>product_class_mean</th>\n",
       "      <th>weight_class_mean</th>\n",
       "      <th>color_code_mean</th>\n",
       "      <th>product_price_mean</th>\n",
       "      <th>quantity_mean</th>\n",
       "      <th>age_group</th>\n",
       "      <th>residence_area_code</th>\n",
       "      <th>weight_lb</th>\n",
       "      <th>height_inchess</th>\n",
       "      <th>BMI</th>\n",
       "    </tr>\n",
       "  </thead>\n",
       "  <tbody>\n",
       "    <tr>\n",
       "      <th>0</th>\n",
       "      <td>1069</td>\n",
       "      <td>82</td>\n",
       "      <td>2001-02-03</td>\n",
       "      <td>551.333333</td>\n",
       "      <td>971</td>\n",
       "      <td>3</td>\n",
       "      <td>0.470228</td>\n",
       "      <td>3.000000</td>\n",
       "      <td>2.666667</td>\n",
       "      <td>2.333333</td>\n",
       "      <td>157.922222</td>\n",
       "      <td>4.666667</td>\n",
       "      <td>67</td>\n",
       "      <td>E</td>\n",
       "      <td>168.667742</td>\n",
       "      <td>75.119849</td>\n",
       "      <td>21.520637</td>\n",
       "    </tr>\n",
       "    <tr>\n",
       "      <th>1</th>\n",
       "      <td>1113</td>\n",
       "      <td>15</td>\n",
       "      <td>2000-11-27</td>\n",
       "      <td>534.000000</td>\n",
       "      <td>624</td>\n",
       "      <td>3</td>\n",
       "      <td>0.007479</td>\n",
       "      <td>3.666667</td>\n",
       "      <td>3.000000</td>\n",
       "      <td>2.666667</td>\n",
       "      <td>120.805556</td>\n",
       "      <td>4.666667</td>\n",
       "      <td>67</td>\n",
       "      <td>F</td>\n",
       "      <td>248.964319</td>\n",
       "      <td>67.625904</td>\n",
       "      <td>39.196152</td>\n",
       "    </tr>\n",
       "    <tr>\n",
       "      <th>2</th>\n",
       "      <td>1250</td>\n",
       "      <td>0</td>\n",
       "      <td>2001-02-04</td>\n",
       "      <td>734.000000</td>\n",
       "      <td>734</td>\n",
       "      <td>1</td>\n",
       "      <td>0.420981</td>\n",
       "      <td>3.000000</td>\n",
       "      <td>4.000000</td>\n",
       "      <td>2.000000</td>\n",
       "      <td>171.250000</td>\n",
       "      <td>5.000000</td>\n",
       "      <td>37</td>\n",
       "      <td>D</td>\n",
       "      <td>246.760186</td>\n",
       "      <td>62.941846</td>\n",
       "      <td>44.846509</td>\n",
       "    </tr>\n",
       "    <tr>\n",
       "      <th>3</th>\n",
       "      <td>1823</td>\n",
       "      <td>4</td>\n",
       "      <td>2000-11-06</td>\n",
       "      <td>1087.000000</td>\n",
       "      <td>1256</td>\n",
       "      <td>2</td>\n",
       "      <td>0.525407</td>\n",
       "      <td>3.500000</td>\n",
       "      <td>3.500000</td>\n",
       "      <td>3.500000</td>\n",
       "      <td>126.888889</td>\n",
       "      <td>11.000000</td>\n",
       "      <td>67</td>\n",
       "      <td>D</td>\n",
       "      <td>193.430925</td>\n",
       "      <td>69.043059</td>\n",
       "      <td>29.215839</td>\n",
       "    </tr>\n",
       "    <tr>\n",
       "      <th>4</th>\n",
       "      <td>2189</td>\n",
       "      <td>0</td>\n",
       "      <td>2000-12-02</td>\n",
       "      <td>9078.000000</td>\n",
       "      <td>9078</td>\n",
       "      <td>1</td>\n",
       "      <td>0.138356</td>\n",
       "      <td>30.000000</td>\n",
       "      <td>8.000000</td>\n",
       "      <td>6.000000</td>\n",
       "      <td>101.487805</td>\n",
       "      <td>89.000000</td>\n",
       "      <td>67</td>\n",
       "      <td>B</td>\n",
       "      <td>217.055635</td>\n",
       "      <td>69.622813</td>\n",
       "      <td>32.240400</td>\n",
       "    </tr>\n",
       "  </tbody>\n",
       "</table>\n",
       "</div>"
      ],
      "text/plain": [
       "   customer_id  transaction_date_date_range transaction_date_last_date  \\\n",
       "0         1069                           82                 2001-02-03   \n",
       "1         1113                           15                 2000-11-27   \n",
       "2         1250                            0                 2001-02-04   \n",
       "3         1823                            4                 2000-11-06   \n",
       "4         2189                            0                 2000-12-02   \n",
       "\n",
       "   sales_price_mean  sales_price_max  sales_price_num_date  \\\n",
       "0        551.333333              971                     3   \n",
       "1        534.000000              624                     3   \n",
       "2        734.000000              734                     1   \n",
       "3       1087.000000             1256                     2   \n",
       "4       9078.000000             9078                     1   \n",
       "\n",
       "   percentage_locally_sourced_mean  product_class_mean  weight_class_mean  \\\n",
       "0                         0.470228            3.000000           2.666667   \n",
       "1                         0.007479            3.666667           3.000000   \n",
       "2                         0.420981            3.000000           4.000000   \n",
       "3                         0.525407            3.500000           3.500000   \n",
       "4                         0.138356           30.000000           8.000000   \n",
       "\n",
       "   color_code_mean  product_price_mean  quantity_mean  age_group  \\\n",
       "0         2.333333          157.922222       4.666667         67   \n",
       "1         2.666667          120.805556       4.666667         67   \n",
       "2         2.000000          171.250000       5.000000         37   \n",
       "3         3.500000          126.888889      11.000000         67   \n",
       "4         6.000000          101.487805      89.000000         67   \n",
       "\n",
       "  residence_area_code   weight_lb  height_inchess        BMI  \n",
       "0                  E   168.667742       75.119849  21.520637  \n",
       "1                  F   248.964319       67.625904  39.196152  \n",
       "2                  D   246.760186       62.941846  44.846509  \n",
       "3                  D   193.430925       69.043059  29.215839  \n",
       "4                  B   217.055635       69.622813  32.240400  "
      ]
     },
     "execution_count": 408,
     "metadata": {},
     "output_type": "execute_result"
    }
   ],
   "source": [
    "transactionsGrouped2.head()"
   ]
  },
  {
   "cell_type": "code",
   "execution_count": 409,
   "metadata": {
    "collapsed": false
   },
   "outputs": [
    {
     "data": {
      "text/plain": [
       "(20388, 17)"
      ]
     },
     "execution_count": 409,
     "metadata": {},
     "output_type": "execute_result"
    }
   ],
   "source": [
    "transactionsGrouped2.shape"
   ]
  },
  {
   "cell_type": "code",
   "execution_count": 410,
   "metadata": {
    "collapsed": false
   },
   "outputs": [
    {
     "data": {
      "text/plain": [
       "(32266, 3)"
      ]
     },
     "execution_count": 410,
     "metadata": {},
     "output_type": "execute_result"
    }
   ],
   "source": [
    "finalSales.shape"
   ]
  }
 ],
 "metadata": {
  "anaconda-cloud": {},
  "kernelspec": {
   "display_name": "Python [conda root]",
   "language": "python",
   "name": "conda-root-py"
  },
  "language_info": {
   "codemirror_mode": {
    "name": "ipython",
    "version": 3
   },
   "file_extension": ".py",
   "mimetype": "text/x-python",
   "name": "python",
   "nbconvert_exporter": "python",
   "pygments_lexer": "ipython3",
   "version": "3.5.2"
  }
 },
 "nbformat": 4,
 "nbformat_minor": 1
}
